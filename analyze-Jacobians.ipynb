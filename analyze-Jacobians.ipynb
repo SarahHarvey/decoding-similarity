{
 "cells": [
  {
   "cell_type": "code",
   "execution_count": 37,
   "id": "c60b8f00-4e85-4565-ad19-265d86bab774",
   "metadata": {},
   "outputs": [
    {
     "name": "stdout",
     "output_type": "stream",
     "text": [
      "Using cpu for inference\n"
     ]
    }
   ],
   "source": [
    "import torch\n",
    "import torchinfo\n",
    "import torch.nn as nn\n",
    "from PIL import Image\n",
    "import torchvision\n",
    "import torchvision.transforms as transforms\n",
    "import torchvision.models as models\n",
    "from torchvision import datasets, transforms\n",
    "from torch.utils.data import DataLoader\n",
    "# from torchvision.models.feature_extraction import get_graph_node_names\n",
    "# from torchvision.models.feature_extraction import create_feature_extractor\n",
    "from sklearn.metrics import confusion_matrix\n",
    "\n",
    "import dsutils \n",
    "import metrics\n",
    "\n",
    "\n",
    "import os\n",
    "import numpy as np\n",
    "import json\n",
    "import requests\n",
    "import matplotlib.pyplot as plt\n",
    "import warnings\n",
    "warnings.filterwarnings('ignore')\n",
    "%matplotlib inline\n",
    "\n",
    "device = torch.device(\"cuda\") if torch.cuda.is_available() else torch.device(\"cpu\")\n",
    "print(f'Using {device} for inference')"
   ]
  },
  {
   "cell_type": "code",
   "execution_count": 3,
   "id": "63dd0df6-14d6-41d1-8be5-7f5348d76291",
   "metadata": {},
   "outputs": [],
   "source": [
    "# Load Jacobians\n",
    "\n",
    "Jrn50_rxN = np.load('rnet50_Jacobian_rbyN_images1to1029.npy')\n",
    "Jrn18_rxN = np.load('rnet18_Jacobian_rbyN_images1to1029.npy')\n",
    "Janet_rxN = np.load('anet_Jacobian_rbyN_images1to1029.npy')"
   ]
  },
  {
   "cell_type": "code",
   "execution_count": 39,
   "id": "21eb60e3-6ecf-42f5-988c-dbce08d4c7d8",
   "metadata": {},
   "outputs": [],
   "source": [
    "Nrn50 = Jrn50_rxN.shape[2]\n",
    "Nrn18 = Jrn18_rxN.shape[2]\n",
    "Nanet = Janet_rxN.shape[2]\n",
    "\n",
    "M = Jrn50_rxN.shape[0]"
   ]
  },
  {
   "cell_type": "code",
   "execution_count": 40,
   "id": "2345e125-9efb-4832-a29a-464d808a9644",
   "metadata": {},
   "outputs": [
    {
     "data": {
      "text/plain": [
       "[<matplotlib.lines.Line2D at 0x1549b20ec2f0>]"
      ]
     },
     "execution_count": 40,
     "metadata": {},
     "output_type": "execute_result"
    },
    {
     "data": {
      "image/png": "[encoded data removed]",
      "text/plain": [
       "<Figure size 640x480 with 1 Axes>"
      ]
     },
     "metadata": {},
     "output_type": "display_data"
    }
   ],
   "source": [
    "image = 539\n",
    "plt.plot(np.linalg.norm(Janet_rxN[image],axis=1))\n",
    "plt.plot(np.linalg.norm(Jrn50_rxN[image],axis=1),alpha=0.6)\n",
    "plt.plot(np.linalg.norm(Jrn18_rxN[image],axis=1),alpha=0.6)\n"
   ]
  },
  {
   "cell_type": "code",
   "execution_count": null,
   "id": "472043d5-db7d-4c49-9cc5-ec23fbf974dc",
   "metadata": {
    "scrolled": true
   },
   "outputs": [
    {
     "name": "stdout",
     "output_type": "stream",
     "text": [
      "0\n",
      "1\n",
      "2\n",
      "3\n",
      "4\n",
      "5\n",
      "6\n",
      "7\n",
      "8\n",
      "9\n",
      "10\n",
      "11\n",
      "12\n",
      "13\n",
      "14\n",
      "15\n",
      "16\n",
      "17\n",
      "18\n",
      "19\n",
      "20\n",
      "21\n",
      "22\n",
      "23\n",
      "24\n",
      "25\n",
      "26\n",
      "27\n",
      "28\n",
      "29\n",
      "30\n",
      "31\n",
      "32\n",
      "33\n",
      "34\n",
      "35\n",
      "36\n",
      "37\n",
      "38\n",
      "39\n",
      "40\n",
      "41\n",
      "42\n",
      "43\n",
      "44\n",
      "45\n",
      "46\n",
      "47\n",
      "48\n",
      "49\n",
      "50\n",
      "51\n",
      "52\n",
      "53\n",
      "54\n",
      "55\n",
      "56\n",
      "57\n",
      "58\n",
      "59\n",
      "60\n",
      "61\n",
      "62\n",
      "63\n",
      "64\n",
      "65\n",
      "66\n",
      "67\n",
      "68\n",
      "69\n",
      "70\n",
      "71\n",
      "72\n",
      "73\n",
      "74\n",
      "75\n",
      "76\n",
      "77\n",
      "78\n",
      "79\n",
      "80\n",
      "81\n",
      "82\n",
      "83\n",
      "84\n",
      "85\n",
      "86\n",
      "87\n",
      "88\n",
      "89\n",
      "90\n",
      "91\n",
      "92\n",
      "93\n",
      "94\n",
      "95\n",
      "96\n",
      "97\n",
      "98\n",
      "99\n",
      "100\n",
      "101\n",
      "102\n",
      "103\n",
      "104\n",
      "105\n",
      "106\n",
      "107\n",
      "108\n",
      "109\n",
      "110\n",
      "111\n",
      "112\n",
      "113\n",
      "114\n",
      "115\n",
      "116\n",
      "117\n",
      "118\n",
      "119\n",
      "120\n",
      "121\n",
      "122\n",
      "123\n",
      "124\n",
      "125\n",
      "126\n",
      "127\n",
      "128\n",
      "129\n",
      "130\n",
      "131\n",
      "132\n",
      "133\n"
     ]
    }
   ],
   "source": [
    "db2 = []\n",
    "for i in np.arange(M):\n",
    "    A = Jrn50_rxN[i]@Jrn50_rxN[i].T\n",
    "    B = Jrn50_rxN[i]@Jrn50_rxN[i].T\n",
    "    # C = Jrn18_rxN[i]@Jrn18_rxN[i].T\n",
    "    db2.append(metrics.sq_bures_metric((1/Nrn50)**1 * A,(1/Nanet)**1 * B))\n",
    "    print(i)"
   ]
  },
  {
   "cell_type": "code",
   "execution_count": null,
   "id": "00caf51a-a63e-4d50-9b4c-908c30d8306a",
   "metadata": {},
   "outputs": [],
   "source": []
  }
 ],
 "metadata": {
  "kernelspec": {
   "display_name": "da",
   "language": "python",
   "name": "da"
  },
  "language_info": {
   "codemirror_mode": {
    "name": "ipython",
    "version": 3
   },
   "file_extension": ".py",
   "mimetype": "text/x-python",
   "name": "python",
   "nbconvert_exporter": "python",
   "pygments_lexer": "ipython3",
   "version": "3.12.7"
  }
 },
 "nbformat": 4,
 "nbformat_minor": 5
}
