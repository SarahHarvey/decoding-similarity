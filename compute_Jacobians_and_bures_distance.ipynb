{
 "cells": [
  {
   "cell_type": "code",
   "execution_count": null,
   "id": "12859f88-fdd1-4df7-9d03-74d64a0ce35e",
   "metadata": {},
   "outputs": [],
   "source": [
    "# Compute and save Jacobians and Bures distances for analysis"
   ]
  },
  {
   "cell_type": "code",
   "execution_count": null,
   "id": "699ef08b-aa14-4461-8952-b3173f9830d6",
   "metadata": {},
   "outputs": [],
   "source": [
    "import torch\n",
    "import torchinfo\n",
    "import torch.nn as nn\n",
    "from PIL import Image\n",
    "import torchvision\n",
    "import torchvision.transforms as transforms\n",
    "import torchvision.models as models\n",
    "from torchvision import datasets, transforms\n",
    "from torch.utils.data import DataLoader\n",
    "from sklearn.metrics import confusion_matrix\n",
    "\n",
    "import dsutils \n",
    "import metrics\n",
    "import jsutils\n",
    "import extract_internal_reps\n",
    "\n",
    "import os\n",
    "import numpy as np\n",
    "import json\n",
    "import requests\n",
    "import matplotlib.pyplot as plt\n",
    "import warnings\n",
    "warnings.filterwarnings('ignore')\n",
    "%matplotlib inline\n",
    "\n",
    "from sklearn.manifold import MDS\n",
    "from sklearn.decomposition import PCA\n",
    "\n",
    "import pickle\n",
    "\n",
    "\n",
    "device = torch.device(\"cuda\") if torch.cuda.is_available() else torch.device(\"cpu\")\n",
    "print(f'Using {device} for inference')"
   ]
  },
  {
   "cell_type": "code",
   "execution_count": null,
   "id": "d9c59af4-21fa-4c20-93b5-b1a2e9846d8d",
   "metadata": {},
   "outputs": [],
   "source": [
    "# models available\n",
    "\n",
    "model_names = [\"alexnet\", \"resnet18\", \"resnet34\", \"resnet50\", \"resnet101\", \"resnet152\", \"inceptionv3\", \"densenet\", \"mobilenetv2\",\"vgg11\", \"vgg11_bn\", \"vgg13\", \"vgg13_bn\", \"vgg16\", \"vgg16_bn\", \"vgg19\", \"vgg19_bn\"]\n"
   ]
  },
  {
   "cell_type": "code",
   "execution_count": null,
   "id": "3131f72b-b802-4e2f-8c0f-7b410d64a292",
   "metadata": {},
   "outputs": [],
   "source": [
    "# Extract representations resulting from probe inputs in data_dir\n",
    "\n",
    "data_dir = '../imagenet-sample-images'\n",
    "\n",
    "internal_reps = []\n",
    "model_2nds = []\n",
    "repDict = {}\n",
    "\n",
    "for model in model_names:\n",
    "    x1, model_2nd = extract_internal_reps.extract_rep(model, data_dir)\n",
    "    repDict[model] = [x1,model_2nd]\n",
    "    model_2nds.append(model_2nd)\n",
    "    internal_reps.append(x1)\n",
    "    print(model + \" done\")"
   ]
  },
  {
   "cell_type": "code",
   "execution_count": null,
   "id": "34dd51e9-2c72-461b-bd66-9aa072ec5f9c",
   "metadata": {},
   "outputs": [],
   "source": [
    "# Save extracted representations\n",
    "\n",
    "with open('internal_reps_with_model_2nd_half.pkl', 'wb') as f:\n",
    "    pickle.dump(repDict, f)"
   ]
  },
  {
   "cell_type": "code",
   "execution_count": null,
   "id": "42d780bb-82f7-43c8-a108-15301945c563",
   "metadata": {},
   "outputs": [],
   "source": [
    "# Compute decoding Jacobians and save\n",
    "\n",
    "# Takes a while\n",
    "\n",
    "import pickle\n",
    "J_dict_rbyn = {}\n",
    "\n",
    "for model_name in model_names:\n",
    "    J_dict.clear()\n",
    "    Js = jsutils.decoding_jacobian(repDict[model_name][0], repDict[model_name][1])\n",
    "    J_dict_rbyn[model_name] = Js\n",
    "    with open(model_name + '_decoding_Js_rbyn.pkl', 'wb') as f:\n",
    "        pickle.dump(J_dict_rbyn, f)\n",
    "    print(model_name + \" done\")"
   ]
  },
  {
   "cell_type": "code",
   "execution_count": null,
   "id": "80d40dcd-55db-48fd-9e67-3bad746889a0",
   "metadata": {},
   "outputs": [],
   "source": [
    "# Convert Jacobian lists from a list of M, r by N Jacobians to a list of r, M by N Jacobians (if desired)\n",
    "\n",
    "J_dict_mbyn = {}\n",
    "for model_name in model_names:\n",
    "    J_dict_mbyn.clear()\n",
    "    Js_mbyn = jsutils.convert_Jacobian(J_dict_rbyn, model_name)\n",
    "    J_dict_mbyn[model_name] = Js_mbyn\n",
    "    with open(model_name + '_decoding_Js_mbyn.pkl', 'wb') as f:\n",
    "        pickle.dump(J_dict_mbyn, f)\n",
    "    print(model_name + \" done\")"
   ]
  },
  {
   "cell_type": "code",
   "execution_count": null,
   "id": "12a6a9dd-0a66-45bb-ab5a-a737737bd23d",
   "metadata": {},
   "outputs": [],
   "source": [
    "# Flatten Jacobians\n",
    "\n",
    "J_dict = jsutils.flatten_Jacobian(J_dict_rbyn)\n",
    "\n",
    "for model_name in model_names:\n",
    "    Js = {model_name: J_dict[model_name]}\n",
    "    with open(model_name + '_decoding_Js_stacked.pkl', 'wb') as f:\n",
    "        pickle.dump(Js, f)\n",
    "    print(model_name + \" done\")"
   ]
  },
  {
   "cell_type": "code",
   "execution_count": null,
   "id": "6ce4ce74-8632-4a60-823d-351a2225b21e",
   "metadata": {},
   "outputs": [],
   "source": [
    "# Load Jacobians\n",
    "# loads a subset of models' Jacobians\n",
    "\n",
    "import pickle\n",
    "\n",
    "J_dict = {}\n",
    "\n",
    "model_names = [\"alexnet\", \"resnet18\", \"resnet34\", \"resnet50\", \"resnet101\", \"resnet152\",\"vgg16\"]\n",
    "\n",
    "N_models = len(model_names)\n",
    "for model_name in model_names:\n",
    "    with open(model_name + '_decoding_Js_stacked.pkl', 'rb') as f:\n",
    "        new_J = pickle.load(f)\n",
    "        J_dict.update(new_J)\n",
    "        print(model_name)"
   ]
  },
  {
   "cell_type": "code",
   "execution_count": null,
   "id": "4ecada48-bc8c-4d74-b8de-e8d89feb1523",
   "metadata": {},
   "outputs": [],
   "source": [
    "# Compute Bures distances (takes a while)\n",
    "\n",
    "bures_dists_all_rbyn = jsutils.compute_Jacobian_Bures_distances(J_dict_rbyn, model_names)\n",
    "np.savez('bures_dists_penultimate_decoding_Jrbyn.npz', bures_dists = bures_dists_all_rbyn, model_names = model_names)"
   ]
  },
  {
   "cell_type": "code",
   "execution_count": null,
   "id": "3fc4d5c6-d3f1-4cb6-9d73-2cffd10318bf",
   "metadata": {},
   "outputs": [],
   "source": [
    "# Compute Bures distances (takes a while)\n",
    "# Because of the size of the flattened arrays, this one uses Procrustes distance for speed of computation\n",
    "\n",
    "bures_dists_all = jsutils.compute_Jacobian_Procrustes_distances(J_dict, model_names)\n",
    "np.savez('bures_dists_penultimate_decoding_Jstacked.npz', bures_dists = bures_dists_all, model_names = model_names)"
   ]
  }
 ],
 "metadata": {
  "kernelspec": {
   "display_name": "da",
   "language": "python",
   "name": "da"
  },
  "language_info": {
   "codemirror_mode": {
    "name": "ipython",
    "version": 3
   },
   "file_extension": ".py",
   "mimetype": "text/x-python",
   "name": "python",
   "nbconvert_exporter": "python",
   "pygments_lexer": "ipython3",
   "version": "3.12.9"
  }
 },
 "nbformat": 4,
 "nbformat_minor": 5
}
